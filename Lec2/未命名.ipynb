{
 "cells": [
  {
   "cell_type": "code",
   "execution_count": 1,
   "id": "a5cc46b0",
   "metadata": {},
   "outputs": [
    {
     "name": "stdout",
     "output_type": "stream",
     "text": [
      "229028\n"
     ]
    }
   ],
   "source": [
    "def double_p(n):\n",
    "double_p(2)"
   ]
  },
  {
   "cell_type": "code",
   "execution_count": 4,
   "id": "6fc74ad4",
   "metadata": {},
   "outputs": [
    {
     "name": "stdout",
     "output_type": "stream",
     "text": [
      "343542\n",
      "<class 'NoneType'>\n"
     ]
    }
   ],
   "source": [
    "print(type(double_p(3)))"
   ]
  },
  {
   "cell_type": "code",
   "execution_count": 6,
   "id": "663f693e",
   "metadata": {},
   "outputs": [
    {
     "name": "stdout",
     "output_type": "stream",
     "text": [
      "3\n"
     ]
    }
   ],
   "source": [
    "a = 3\n",
    "def chan(x):\n",
    "    x = 1\n",
    "    return x\n",
    "chan(a)\n",
    "print(a)"
   ]
  },
  {
   "cell_type": "code",
   "execution_count": 7,
   "id": "507e4dca",
   "metadata": {},
   "outputs": [],
   "source": [
    "def changeS(a):\n",
    "    x = x.replace(\"C\",\"!\")\n",
    "    return x"
   ]
  },
  {
   "cell_type": "code",
   "execution_count": 11,
   "id": "fc2e4391",
   "metadata": {},
   "outputs": [
    {
     "name": "stdout",
     "output_type": "stream",
     "text": [
      "10\n",
      "9\n",
      "8\n",
      "7\n",
      "6\n",
      "5\n",
      "4\n",
      "3\n",
      "2\n",
      "1\n"
     ]
    }
   ],
   "source": [
    "x = 10\n",
    "while x >= 1:\n",
    "    print(x)\n",
    "    x -= 1\n",
    "    \n",
    "    "
   ]
  },
  {
   "cell_type": "code",
   "execution_count": null,
   "id": "38ab4488",
   "metadata": {},
   "outputs": [],
   "source": []
  },
  {
   "cell_type": "code",
   "execution_count": 26,
   "id": "77636f74",
   "metadata": {},
   "outputs": [
    {
     "name": "stdout",
     "output_type": "stream",
     "text": [
      "{2, 4, 6}\n",
      "<class 'set'>\n",
      "False\n",
      "True\n",
      "True\n",
      "3\n",
      "{2, 4, 5, 6}\n"
     ]
    }
   ],
   "source": [
    "#set\n",
    "s = set([4,2,6])\n",
    "print(s)\n",
    "print(type(s))\n",
    "print(3 in s)\n",
    "print(4 in s)\n",
    "print(5 not in s)\n",
    "print(len(s))\n",
    "\n",
    "#combine sets\n",
    "t = set([4,5,6])\n",
    "cs = t|s\n",
    "print(cs)"
   ]
  },
  {
   "cell_type": "code",
   "execution_count": 27,
   "id": "dd1181ed",
   "metadata": {},
   "outputs": [
    {
     "name": "stdout",
     "output_type": "stream",
     "text": [
      "{4, 6}\n"
     ]
    }
   ],
   "source": [
    "#get common\n",
    "intersection = s & t\n",
    "print(intersection)"
   ]
  },
  {
   "cell_type": "code",
   "execution_count": 28,
   "id": "ec7bb68f",
   "metadata": {},
   "outputs": [
    {
     "name": "stdout",
     "output_type": "stream",
     "text": [
      "{}\n"
     ]
    }
   ],
   "source": [
    "#Dictionaries\n",
    "D = dict()\n",
    "print(D)"
   ]
  },
  {
   "cell_type": "code",
   "execution_count": 33,
   "id": "1dc03cfd",
   "metadata": {},
   "outputs": [
    {
     "name": "stdout",
     "output_type": "stream",
     "text": [
      "2\n",
      "<class 'dict'>\n",
      "a\n"
     ]
    }
   ],
   "source": [
    "D = {1:'a', 2:'b'}\n",
    "print(len(D))\n",
    "print(type(D))\n",
    "print(D[1])\n",
    "#keys immutable\n",
    "#valus any"
   ]
  },
  {
   "cell_type": "code",
   "execution_count": 35,
   "id": "3a8f1bd3",
   "metadata": {},
   "outputs": [
    {
     "name": "stdout",
     "output_type": "stream",
     "text": [
      "None\n"
     ]
    }
   ],
   "source": [
    "print(D.get(3))\n",
    "#print(D[3])"
   ]
  },
  {
   "cell_type": "code",
   "execution_count": null,
   "id": "0e3987de",
   "metadata": {},
   "outputs": [],
   "source": []
  }
 ],
 "metadata": {
  "kernelspec": {
   "display_name": "Python 3 (ipykernel)",
   "language": "python",
   "name": "python3"
  },
  "language_info": {
   "codemirror_mode": {
    "name": "ipython",
    "version": 3
   },
   "file_extension": ".py",
   "mimetype": "text/x-python",
   "name": "python",
   "nbconvert_exporter": "python",
   "pygments_lexer": "ipython3",
   "version": "3.9.18"
  }
 },
 "nbformat": 4,
 "nbformat_minor": 5
}
