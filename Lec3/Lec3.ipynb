{
 "cells": [
  {
   "cell_type": "code",
   "execution_count": 2,
   "id": "d80e5bb2",
   "metadata": {},
   "outputs": [
    {
     "name": "stdout",
     "output_type": "stream",
     "text": [
      "Student name: Chris Gaucho, perm: 123123123\n"
     ]
    }
   ],
   "source": [
    "class Student:\n",
    "    # Student class type that contains attributes for all students\n",
    "    # attributes:\n",
    "    # * name\n",
    "    # * perm number\n",
    "    def setName(self, name):\n",
    "        self.name = name\n",
    "\n",
    "    def setPerm(self, perm):\n",
    "        self.perm = perm\n",
    "\n",
    "    def printAttributes(self):\n",
    "        print(f\"Student name: {self.name}, perm: {self.perm}\")\n",
    "\n",
    "s = Student()\n",
    "s.setName(\"Chris Gaucho\")\n",
    "s.setPerm(123123123)\n",
    "s.printAttributes()"
   ]
  },
  {
   "cell_type": "code",
   "execution_count": 3,
   "id": "cf3564f3",
   "metadata": {},
   "outputs": [
    {
     "name": "stdout",
     "output_type": "stream",
     "text": [
      "Student name: None, perm: None\n",
      "Student name: Chris Gaucho, perm: 123123123\n"
     ]
    }
   ],
   "source": [
    "class Student:\n",
    "    # Student class type that contains attributes for all students\n",
    "    # attributes:\n",
    "    # * name\n",
    "    # * perm number\n",
    "\n",
    "    # default constructor\n",
    "    def __init__(self):\n",
    "        self.name = None\n",
    "        self.perm = None\n",
    "\n",
    "    def setName(self, name):\n",
    "        self.name = name\n",
    "\n",
    "    def setPerm(self, perm):\n",
    "        self.perm = perm\n",
    "\n",
    "    def printAttributes(self):\n",
    "        print(f\"Student name: {self.name}, perm: {self.perm}\")\n",
    "\n",
    "s = Student()\n",
    "s.printAttributes()\n",
    "s.setName(\"Chris Gaucho\")\n",
    "s.setPerm(123123123)\n",
    "s.printAttributes()"
   ]
  },
  {
   "cell_type": "code",
   "execution_count": 6,
   "id": "f2ad6e32",
   "metadata": {},
   "outputs": [
    {
     "name": "stdout",
     "output_type": "stream",
     "text": [
      "Student name: Jane Namerson, perm: 999111000\n",
      "Student name: Mark Nominal, perm: 123123123\n",
      "Student name: Dewey Names, perm: 101010\n"
     ]
    }
   ],
   "source": [
    "class Student:\n",
    "    # Student class type that contains attributes for all students\n",
    "    # attributes:\n",
    "    # * name\n",
    "    # * perm number\n",
    "\n",
    "    # constructor\n",
    "    def __init__(self, name=None, perm=None):\n",
    "        self.name = name\n",
    "        self.perm = perm\n",
    "\n",
    "    def setName(self, name):\n",
    "        self.name = name\n",
    "\n",
    "    def setPerm(self, perm):\n",
    "        self.perm = perm\n",
    "\n",
    "    def printAttributes(self):\n",
    "        print(f\"Student name: {self.name}, perm: {self.perm}\")\n",
    "\n",
    "s1 = Student(\"Jane Namerson\", 999111000)\n",
    "s2 = Student(\"Mark Nominal\", 123123123)\n",
    "s3 = Student(\"Dewey Names\", 101010)\n",
    "\n",
    "studentList = [s1, s2, s3]\n",
    "\n",
    "for s in studentList:\n",
    "    s.printAttributes()\n",
    "\n",
    "# Using `assert` statements to test correct functionality\n",
    "t = Student()\n",
    "assert t.name == None\n",
    "assert t.perm == None\n",
    "\n",
    "r = Student(\"gaucho\", 8675309)\n",
    "assert r.name == \"gaucho\"\n",
    "assert r.perm == 8675309"
   ]
  },
  {
   "cell_type": "code",
   "execution_count": 8,
   "id": "55705270",
   "metadata": {},
   "outputs": [
    {
     "name": "stdout",
     "output_type": "stream",
     "text": [
      "CourseNum:  CS9\n",
      "Student name: Student Gaucho, perm: 123456\n",
      "---\n",
      "CourseNum:  CS9\n",
      "Student name: Student Gaucho, perm: 123456\n",
      "Student name: Jane Namerson, perm: 123456\n",
      "---\n",
      "CourseNum:  CS19\n",
      "Student name: Jane Namerson, perm: 123456\n",
      "---\n"
     ]
    }
   ],
   "source": [
    "# Courses.py\n",
    "\n",
    "# from [filename (without .py)] import [name]\n",
    "from Student import Student\n",
    "\n",
    "class Courses:\n",
    "    '''\n",
    "    Class representing a collection of courses.\n",
    "    Courses are organized by a dict where the key is\n",
    "    the course number and the value is a list of Students\n",
    "    in the course.\n",
    "    '''\n",
    "\n",
    "    def __init__(self):\n",
    "        self.courses = dict()\n",
    "\n",
    "    def getCourses(self):\n",
    "        return self.courses\n",
    "\n",
    "    def addStudent(self, student, courseNum):\n",
    "        # first, check if course exists or not\n",
    "        if self.courses.get(courseNum) == None:\n",
    "            self.courses[courseNum] = [student]\n",
    "        else:\n",
    "            self.courses[courseNum].append(student)\n",
    "    \n",
    "    def printCourses(self):\n",
    "        for courseNum in self.courses:\n",
    "            print(\"CourseNum: \", courseNum)\n",
    "            for student in self.courses[courseNum]:\n",
    "                student.printAttributes()\n",
    "            print(\"---\")\n",
    "\n",
    "s1 = Student(\"Student Gaucho\", 123456)\n",
    "UCSB = Courses()\n",
    "UCSB.addStudent(s1, \"CS9\")\n",
    "UCSB.printCourses()\n",
    "\n",
    "courses = UCSB.getCourses()\n",
    "assert courses == {\"CS9\": [s1]}\n",
    "\n",
    "s2 = Student(\"Jane Namerson\", 123456)\n",
    "UCSB.addStudent(s2, \"CS9\")\n",
    "UCSB.addStudent(s2, \"CS19\")\n",
    "UCSB.printCourses()"
   ]
  },
  {
   "cell_type": "code",
   "execution_count": null,
   "id": "00dd2bbc",
   "metadata": {},
   "outputs": [],
   "source": []
  }
 ],
 "metadata": {
  "kernelspec": {
   "display_name": "Python 3 (ipykernel)",
   "language": "python",
   "name": "python3"
  },
  "language_info": {
   "codemirror_mode": {
    "name": "ipython",
    "version": 3
   },
   "file_extension": ".py",
   "mimetype": "text/x-python",
   "name": "python",
   "nbconvert_exporter": "python",
   "pygments_lexer": "ipython3",
   "version": "3.9.18"
  }
 },
 "nbformat": 4,
 "nbformat_minor": 5
}
