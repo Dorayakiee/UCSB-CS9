{
 "cells": [
  {
   "cell_type": "code",
   "execution_count": 14,
   "id": "4de7d292",
   "metadata": {},
   "outputs": [],
   "source": [
    "# Lab00, CS 9, [Zixuan Chen]\n",
    "\n",
    "def areElementsInList(list1, list2):\n",
    "    ''' This function takes two lists as its parameters (list1 and\n",
    "        list2). Return True if each element in list1 exists in list2.\n",
    "        Return False otherwise. If list1 contains no elements, True is\n",
    "        returned.\n",
    "    '''\n",
    "    for x in list1:\n",
    "        if x not in list2:\n",
    "            return False\n",
    "    return True\n",
    "\n",
    "    "
   ]
  },
  {
   "cell_type": "code",
   "execution_count": 15,
   "id": "454506d5",
   "metadata": {},
   "outputs": [],
   "source": [
    "assert areElementsInList([\"one\",2], [0,\"one\",2,\"three\"]) == True\n",
    "assert areElementsInList([],[1,2,3,4]) == True\n",
    "assert areElementsInList([1,2,3],[1,2]) == False\n",
    "assert areElementsInList([1,2,3],[3,2,1]) == True"
   ]
  },
  {
   "cell_type": "code",
   "execution_count": 36,
   "id": "bec56778",
   "metadata": {},
   "outputs": [],
   "source": [
    "def alternateCase(s):\n",
    "    ''' This function takes a string parameter (s) and returns a new\n",
    "        string that flips the case of each alpha character in s.\n",
    "        NOTE: Your solution **SHOULD NOT** use Python strings' swapcase()\n",
    "        method (think of how you can perform this by iterating through\n",
    "        each character in the string s). Hint, think of utilizing Python\n",
    "        strings' isupper() and islower() methods.\n",
    "    '''\n",
    "    # COMPLETE FUNCTION DEFINITION HERE\n",
    "    res = ''\n",
    "    \n",
    "    for x in s:\n",
    "        if x.isupper():\n",
    "            res += x.lower()\n",
    "        elif x.islower():\n",
    "            res += x.upper()\n",
    "        else:\n",
    "            res += x\n",
    "    \n",
    "    return res"
   ]
  },
  {
   "cell_type": "code",
   "execution_count": 37,
   "id": "dec88344",
   "metadata": {},
   "outputs": [],
   "source": [
    "assert alternateCase(\"\") == \"\"\n",
    "assert alternateCase(\"This is a Sentence\") == \"tHIS IS A sENTENCE\"\n",
    "assert alternateCase(\"CS9\") == \"cs9\"\n",
    "assert alternateCase(\"9.95\") == \"9.95\"\n"
   ]
  },
  {
   "cell_type": "code",
   "execution_count": 42,
   "id": "f76c5098",
   "metadata": {},
   "outputs": [],
   "source": [
    "def getCharacterCount(s):\n",
    "    ''' This function takes a string parameter (s) and returns a dictionary\n",
    "        type where each key in the dictionary is a unique upper-case character\n",
    "        in s and its associated value is the number of occurrences the unique\n",
    "        character exists in s. Note that the unique characters should be the case\n",
    "        insensitive (\"a\" and \"A\" are considered the same and should be stored as\n",
    "        \"A\" in the dictionary). Non alpha characters (including whitespaces)\n",
    "        and their occurrences should also be stored in the dictionary.\n",
    "    '''\n",
    "    # COMPLETE FUNCTION DEFINITION HERE\n",
    "    res = dict()\n",
    "    for x in s:\n",
    "        if x.islower():\n",
    "            x = x.upper()\n",
    "        if res.get(x) == None:\n",
    "            res[x] = 1\n",
    "        else:\n",
    "            res[x] +=1\n",
    "    return res"
   ]
  },
  {
   "cell_type": "code",
   "execution_count": 43,
   "id": "49186eda",
   "metadata": {},
   "outputs": [],
   "source": [
    "x = getCharacterCount(\"This is a Sentence\")\n",
    "assert x.get(\"S\") == 3\n",
    "assert x.get(\"P\") == None\n",
    "assert x.get(\"I\") == 2\n",
    "assert x.get(\" \") == 3\n",
    "y = getCharacterCount(\"Pi is Approximately 3.14159\")\n",
    "assert y.get(\"1\") == 2\n",
    "assert y.get(\"A\") == 2\n",
    "assert y.get(\"P\") == 3\n",
    "assert y.get(\".\") == 1\n",
    "assert y.get(4) == None"
   ]
  }
 ],
 "metadata": {
  "kernelspec": {
   "display_name": "Python 3 (ipykernel)",
   "language": "python",
   "name": "python3"
  },
  "language_info": {
   "codemirror_mode": {
    "name": "ipython",
    "version": 3
   },
   "file_extension": ".py",
   "mimetype": "text/x-python",
   "name": "python",
   "nbconvert_exporter": "python",
   "pygments_lexer": "ipython3",
   "version": "3.9.18"
  }
 },
 "nbformat": 4,
 "nbformat_minor": 5
}
