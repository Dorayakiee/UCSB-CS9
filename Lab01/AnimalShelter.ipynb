{
 "cells": [
  {
   "cell_type": "code",
   "execution_count": null,
   "id": "0e9d9765",
   "metadata": {},
   "outputs": [],
   "source": []
  },
  {
   "cell_type": "code",
   "execution_count": 22,
   "id": "430b137f",
   "metadata": {},
   "outputs": [],
   "source": [
    "from Animal import Animal\n",
    "\n",
    "class AnimalShelter:\n",
    "    def __init__(self):\n",
    "        self.shelter = {}\n",
    "\n",
    "    def addAnimal(self, animal):\n",
    "        species = animal.species\n",
    "        if species not in self.shelter:\n",
    "            self.shelter[species] = []\n",
    "        self.shelter[species].append(animal)\n",
    "\n",
    "    def removeAnimal(self, animal):\n",
    "        species = animal.species\n",
    "        if species in self.shelter:\n",
    "            for i, a in enumerate(self.shelter[species]):\n",
    "                if (a.species == animal.species and a.name == animal.name and \n",
    "                    a.age == animal.age and a.weight == animal.weight):\n",
    "                    del self.shelter[species][i]\n",
    "                    if not self.shelter[species]: \n",
    "                        del self.shelter[species]\n",
    "                    return True\n",
    "        return False\n",
    "\n",
    "    def removeSpecies(self, species):\n",
    "        species = species.upper()\n",
    "        if species in self.shelter:\n",
    "            del self.shelter[species]\n",
    "\n",
    "    def getAnimalsBySpecies(self, species):\n",
    "        species = species.upper()\n",
    "        if species in self.shelter:\n",
    "            return \"\\n\".join(animal.toString() for animal in self.shelter[species])\n",
    "        return \"\"\n",
    "\n",
    "    def doesAnimalExist(self, animal):\n",
    "        species = animal.species\n",
    "        if species in self.shelter:\n",
    "            for a in self.shelter[species]:\n",
    "                if (a.species == animal.species and a.name == animal.name and \n",
    "                    a.age == animal.age and a.weight == animal.weight):\n",
    "                    return True\n",
    "        return False\n",
    "\n"
   ]
  },
  {
   "cell_type": "code",
   "execution_count": null,
   "id": "12e466d4",
   "metadata": {},
   "outputs": [],
   "source": []
  }
 ],
 "metadata": {
  "kernelspec": {
   "display_name": "Python 3 (ipykernel)",
   "language": "python",
   "name": "python3"
  },
  "language_info": {
   "codemirror_mode": {
    "name": "ipython",
    "version": 3
   },
   "file_extension": ".py",
   "mimetype": "text/x-python",
   "name": "python",
   "nbconvert_exporter": "python",
   "pygments_lexer": "ipython3",
   "version": "3.9.18"
  }
 },
 "nbformat": 4,
 "nbformat_minor": 5
}
