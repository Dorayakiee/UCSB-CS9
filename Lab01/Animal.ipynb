{
 "cells": [
  {
   "cell_type": "code",
   "execution_count": 22,
   "id": "b31732cf",
   "metadata": {},
   "outputs": [],
   "source": [
    "class Animal:\n",
    "    def __init__(self, species = None, weight = None, age = None, name = None):\n",
    "        self.species = species.upper() if species else None\n",
    "        self.weight = weight\n",
    "        self.age = age\n",
    "        self.name = name.upper() if name else None\n",
    "        \n",
    "    def setSpecies(self, species):\n",
    "        self.species = species.upper() if species else None\n",
    "    \n",
    "    def setWeight(self, weight):\n",
    "        self.weight = weight\n",
    "    \n",
    "    def setAge(self, age):\n",
    "        self.age = age\n",
    "        \n",
    "    def setName(self, name):\n",
    "        self.name = name.upper() if name else None\n",
    "        \n",
    "    def toString(self):\n",
    "        return f\"Species: {self.species}, Name: {self.name}, Age: {self.age}, Weight: {self.weight}\"\n"
   ]
  },
  {
   "cell_type": "code",
   "execution_count": 23,
   "id": "a4d671ab",
   "metadata": {},
   "outputs": [
    {
     "name": "stdout",
     "output_type": "stream",
     "text": [
      "Species: DOG, Name: RUFFLES, Age: 2, Weight: 12.2\n"
     ]
    }
   ],
   "source": [
    "a = Animal(\"dog\", 12.2, 2, \"Ruffles\")\n",
    "print(a.toString())"
   ]
  },
  {
   "cell_type": "code",
   "execution_count": null,
   "id": "949cc345",
   "metadata": {},
   "outputs": [],
   "source": []
  }
 ],
 "metadata": {
  "kernelspec": {
   "display_name": "Python 3 (ipykernel)",
   "language": "python",
   "name": "python3"
  },
  "language_info": {
   "codemirror_mode": {
    "name": "ipython",
    "version": 3
   },
   "file_extension": ".py",
   "mimetype": "text/x-python",
   "name": "python",
   "nbconvert_exporter": "python",
   "pygments_lexer": "ipython3",
   "version": "3.9.18"
  }
 },
 "nbformat": 4,
 "nbformat_minor": 5
}
